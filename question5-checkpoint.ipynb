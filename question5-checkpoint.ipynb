{
 "cells": [
  {
   "cell_type": "code",
   "execution_count": 2,
   "id": "07211cc6",
   "metadata": {},
   "outputs": [
    {
     "data": {
      "text/plain": [
       "country\n",
       "Argentina                11704.0\n",
       "Austria                   7953.0\n",
       "Bahrain                   3871.0\n",
       "Belgium                   3634.0\n",
       "Brazil                   27304.0\n",
       "Bulgaria                  1013.0\n",
       "Canada                   11577.5\n",
       "Chile                     1328.5\n",
       "China                   299107.5\n",
       "Costa Rica                 763.0\n",
       "Croatia                   2497.5\n",
       "Cyprus                     729.5\n",
       "Czechia                   5812.0\n",
       "Denmark                   7139.0\n",
       "Ecuador                    108.0\n",
       "England                 115637.0\n",
       "Estonia                   1051.5\n",
       "Finland                   2332.0\n",
       "France                   43961.0\n",
       "Germany                  52415.5\n",
       "Gibraltar                  744.0\n",
       "Greece                    5388.0\n",
       "Hungary                   5581.0\n",
       "Iceland                     63.0\n",
       "India                   182551.5\n",
       "Indonesia                13200.0\n",
       "Ireland                   6607.0\n",
       "Isle of Man                146.5\n",
       "Israel                   95621.0\n",
       "Italy                    45417.0\n",
       "Kuwait                       NaN\n",
       "Latvia                     597.0\n",
       "Lithuania                 1944.0\n",
       "Luxembourg                 114.0\n",
       "Malta                      419.0\n",
       "Mexico                    5682.0\n",
       "Netherlands               6881.0\n",
       "Northern Ireland          2247.5\n",
       "Norway                    2982.0\n",
       "Oman                      1199.0\n",
       "Panama                    1364.0\n",
       "Poland                   23659.0\n",
       "Portugal                  5946.5\n",
       "Romania                  13214.0\n",
       "Russia                   25299.0\n",
       "Saudi Arabia             16843.0\n",
       "Scotland                  5821.0\n",
       "Serbia                    3153.0\n",
       "Seychelles                1059.0\n",
       "Singapore                 4950.0\n",
       "Slovakia                  5473.0\n",
       "Slovenia                  2415.0\n",
       "Spain                    56505.0\n",
       "Sweden                    5600.0\n",
       "Switzerland               3000.0\n",
       "Turkey                  154397.5\n",
       "United Arab Emirates     88134.5\n",
       "United Kingdom          129663.0\n",
       "United States           399093.0\n",
       "Wales                     2324.0\n",
       "Name: daily_vaccinations, dtype: float64"
      ]
     },
     "execution_count": 2,
     "metadata": {},
     "output_type": "execute_result"
    }
   ],
   "source": [
    "import pandas as pd\n",
    "import numpy as np\n",
    "data=pd.read_csv(\"C:/Users/RUKİYE/Desktop/data.csv\")\n",
    "data.groupby('country')['daily_vaccinations'].median()\n"
   ]
  },
  {
   "cell_type": "code",
   "execution_count": 3,
   "id": "5859b92d",
   "metadata": {},
   "outputs": [
    {
     "data": {
      "text/plain": [
       "country\n",
       "Argentina                11645.0\n",
       "Austria                   7850.0\n",
       "Bahrain                   3662.0\n",
       "Belgium                   3606.0\n",
       "Brazil                   17220.0\n",
       "Bulgaria                  1010.0\n",
       "Canada                   11044.0\n",
       "Chile                     1291.0\n",
       "China                   276786.0\n",
       "Costa Rica                 675.5\n",
       "Croatia                   2485.0\n",
       "Cyprus                     708.0\n",
       "Czechia                   5378.0\n",
       "Denmark                   7095.5\n",
       "Ecuador                     54.0\n",
       "England                 107310.5\n",
       "Estonia                   1043.0\n",
       "Finland                   2035.5\n",
       "France                   41496.0\n",
       "Germany                  51184.0\n",
       "Gibraltar                  713.0\n",
       "Greece                    5290.0\n",
       "Hungary                   5464.5\n",
       "Iceland                     63.0\n",
       "India                   173922.0\n",
       "Indonesia                13200.0\n",
       "Ireland                   6528.0\n",
       "Isle of Man                138.0\n",
       "Israel                   92587.0\n",
       "Italy                    44475.5\n",
       "Kuwait                       0.0\n",
       "Latvia                     592.0\n",
       "Lithuania                 1933.5\n",
       "Luxembourg                  88.0\n",
       "Malta                      407.5\n",
       "Mexico                    5488.0\n",
       "Netherlands               6762.0\n",
       "Northern Ireland          2135.0\n",
       "Norway                    2958.0\n",
       "Oman                      1192.0\n",
       "Panama                    1324.0\n",
       "Poland                   22702.5\n",
       "Portugal                  5944.0\n",
       "Romania                  13030.0\n",
       "Russia                   23563.0\n",
       "Saudi Arabia             16807.5\n",
       "Scotland                  5821.0\n",
       "Serbia                    2920.0\n",
       "Seychelles                1000.0\n",
       "Singapore                 4907.0\n",
       "Slovakia                  5357.0\n",
       "Slovenia                  2374.0\n",
       "Spain                    55238.0\n",
       "Sweden                    5382.5\n",
       "Switzerland               3000.0\n",
       "Turkey                  150356.0\n",
       "United Arab Emirates     86430.0\n",
       "United Kingdom          120409.0\n",
       "United States           378253.0\n",
       "Wales                     2198.0\n",
       "Name: daily_vaccinations, dtype: float64"
      ]
     },
     "execution_count": 3,
     "metadata": {},
     "output_type": "execute_result"
    }
   ],
   "source": [
    "data['daily_vaccinations'].fillna(0, inplace = True) \n",
    "data.groupby('country')['daily_vaccinations'].median()"
   ]
  },
  {
   "cell_type": "code",
   "execution_count": 13,
   "id": "7e4da7f0",
   "metadata": {},
   "outputs": [
    {
     "data": {
      "text/plain": [
       "country\n",
       "United States    378253.0\n",
       "China            276786.0\n",
       "India            173922.0\n",
       "Name: daily_vaccinations, dtype: float64"
      ]
     },
     "execution_count": 13,
     "metadata": {},
     "output_type": "execute_result"
    }
   ],
   "source": [
    "median=data.groupby('country')['daily_vaccinations'].median().sort_values(ascending=False)\n",
    "median[0:3]\n",
    "\n"
   ]
  },
  {
   "cell_type": "code",
   "execution_count": null,
   "id": "da5bae6b",
   "metadata": {},
   "outputs": [],
   "source": []
  }
 ],
 "metadata": {
  "kernelspec": {
   "display_name": "Python 3",
   "language": "python",
   "name": "python3"
  },
  "language_info": {
   "codemirror_mode": {
    "name": "ipython",
    "version": 3
   },
   "file_extension": ".py",
   "mimetype": "text/x-python",
   "name": "python",
   "nbconvert_exporter": "python",
   "pygments_lexer": "ipython3",
   "version": "3.8.8"
  }
 },
 "nbformat": 4,
 "nbformat_minor": 5
}
